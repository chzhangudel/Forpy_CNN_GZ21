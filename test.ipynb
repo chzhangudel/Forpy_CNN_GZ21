{
 "cells": [
  {
   "cell_type": "code",
   "execution_count": 6,
   "metadata": {},
   "outputs": [
    {
     "name": "stdout",
     "output_type": "stream",
     "text": [
      "[[0. 0. 0. ... 0. 0. 0.]\n",
      " [0. 0. 0. ... 0. 0. 0.]\n",
      " [0. 0. 0. ... 0. 0. 0.]\n",
      " ...\n",
      " [0. 0. 0. ... 0. 0. 0.]\n",
      " [0. 0. 0. ... 0. 0. 0.]\n",
      " [0. 0. 0. ... 0. 0. 0.]]\n"
     ]
    }
   ],
   "source": [
    "import numpy as np\n",
    "\n",
    "uv = np.zeros((108, 100))\n",
    "\n",
    "for j in range(4):\n",
    "    for i in range(4):\n",
    "        start_row = i * 22 + 10\n",
    "        start_col = j * 20 + 10\n",
    "        value = i + j * 4\n",
    "        uv[start_row:start_row+22, start_col:start_col+20] = value\n",
    "\n",
    "print(uv)"
   ]
  }
 ],
 "metadata": {
  "kernelspec": {
   "display_name": "conda_forpy",
   "language": "python",
   "name": "conda_forpy"
  },
  "language_info": {
   "codemirror_mode": {
    "name": "ipython",
    "version": 3
   },
   "file_extension": ".py",
   "mimetype": "text/x-python",
   "name": "python",
   "nbconvert_exporter": "python",
   "pygments_lexer": "ipython3",
   "version": "3.8.8"
  },
  "orig_nbformat": 4
 },
 "nbformat": 4,
 "nbformat_minor": 2
}
